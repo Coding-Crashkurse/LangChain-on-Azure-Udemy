{
 "cells": [
  {
   "cell_type": "code",
   "execution_count": null,
   "metadata": {},
   "outputs": [],
   "source": [
    "import os\n",
    "from dotenv import load_dotenv, find_dotenv\n",
    "from azure.core.credentials import AzureKeyCredential\n",
    "from azure.search.documents.indexes import SearchIndexClient\n",
    "from azure.search.documents.indexes.models import (\n",
    "    ComplexField,\n",
    "    CorsOptions,\n",
    "    SearchIndex,\n",
    "    SearchFieldDataType,\n",
    "    SimpleField,\n",
    "    SearchableField\n",
    ")"
   ]
  },
  {
   "cell_type": "code",
   "execution_count": null,
   "metadata": {},
   "outputs": [],
   "source": [
    "load_dotenv(find_dotenv('../application/.env'))"
   ]
  },
  {
   "cell_type": "code",
   "execution_count": null,
   "metadata": {},
   "outputs": [],
   "source": [
    "endpoint = os.environ[\"SEARCH_ENDPOINT\"]\n",
    "key = os.environ[\"SEARCH_API_KEY\"]\n",
    "\n",
    "print(key)\n",
    "\n",
    "client = SearchIndexClient(endpoint, AzureKeyCredential(key))"
   ]
  },
  {
   "cell_type": "code",
   "execution_count": null,
   "metadata": {},
   "outputs": [],
   "source": [
    "name = \"restaurant\"\n",
    "fields = [\n",
    "    SimpleField(name=\"restaurantId\", type=SearchFieldDataType.String, key=True),\n",
    "    SimpleField(name=\"averageCost\", type=SearchFieldDataType.Double),\n",
    "    SearchableField(name=\"description\", type=SearchFieldDataType.String),\n",
    "    ComplexField(name=\"address\", fields=[\n",
    "        SimpleField(name=\"streetAddress\", type=SearchFieldDataType.String),\n",
    "        SimpleField(name=\"city\", type=SearchFieldDataType.String),\n",
    "    ])\n",
    "]"
   ]
  },
  {
   "cell_type": "code",
   "execution_count": null,
   "metadata": {},
   "outputs": [],
   "source": [
    "from azure.core.exceptions import HttpResponseError\n",
    "\n",
    "cors_options = CorsOptions(allowed_origins=[\"*\"], max_age_in_seconds=60)\n",
    "scoring_profiles = []\n",
    "\n",
    "index = SearchIndex(\n",
    "    name=name,\n",
    "    fields=fields,\n",
    "    scoring_profiles=scoring_profiles,\n",
    "    cors_options=cors_options)\n",
    "\n",
    "\n",
    "try:\n",
    "    result = client.create_index(index)\n",
    "    print(f\"Index '{name}' created.\")\n",
    "except HttpResponseError as e:\n",
    "    print(f\"Index '{name}' already exists.\")\n"
   ]
  },
  {
   "cell_type": "markdown",
   "metadata": {},
   "source": [
    "### Add documents to the index"
   ]
  },
  {
   "cell_type": "code",
   "execution_count": null,
   "metadata": {},
   "outputs": [],
   "source": [
    "import os\n",
    "from azure.core.credentials import AzureKeyCredential\n",
    "from azure.search.documents import SearchClient\n",
    "\n",
    "index_name = \"restaurant\"\n",
    "endpoint = os.environ[\"SEARCH_ENDPOINT\"]\n",
    "key = os.environ[\"SEARCH_API_KEY\"]\n",
    "\n",
    "documents = [\n",
    "    {\n",
    "        'restaurantId': '1',\n",
    "        'averageCost': 50.0,\n",
    "        'description': 'Traditional Italian cuisine with a modern twist.',\n",
    "        'address': {\n",
    "            'streetAddress': '123 Via Roma',\n",
    "            'city': 'Rome',\n",
    "        }\n",
    "    },\n",
    "    {\n",
    "        'restaurantId': '2',\n",
    "        'averageCost': 70.0,\n",
    "        'description': 'Family-friendly Italian restaurant with classic dishes.',\n",
    "        'address': {\n",
    "            'streetAddress': '456 Via Milano',\n",
    "            'city': 'Milan',\n",
    "        }\n",
    "    },\n",
    "    {\n",
    "        'restaurantId': '3',\n",
    "        'averageCost': 35.0,\n",
    "        'description': 'Cozy trattoria offering regional specialties.',\n",
    "        'address': {\n",
    "            'streetAddress': '789 Via Napoli',\n",
    "            'city': 'Naples',\n",
    "        }\n",
    "    }\n",
    "]\n",
    "\n",
    "search_client = SearchClient(endpoint, index_name, AzureKeyCredential(key))\n",
    "result = search_client.upload_documents(documents=documents)\n"
   ]
  },
  {
   "cell_type": "code",
   "execution_count": null,
   "metadata": {},
   "outputs": [],
   "source": [
    "for res in result:\n",
    "    print(f\"Upload of document with ID '{res.key}' succeeded: {res.succeeded}\")"
   ]
  },
  {
   "cell_type": "markdown",
   "metadata": {},
   "source": [
    "Now we can retrieve Documents from ACS"
   ]
  },
  {
   "cell_type": "code",
   "execution_count": null,
   "metadata": {},
   "outputs": [],
   "source": [
    "results = client.search(search_text=\"Family friendly?\")\n",
    "\n",
    "for result in results:\n",
    "    print(result)"
   ]
  },
  {
   "cell_type": "markdown",
   "metadata": {},
   "source": [
    "### Using LangChain with ACS"
   ]
  },
  {
   "cell_type": "code",
   "execution_count": null,
   "metadata": {},
   "outputs": [],
   "source": [
    "import os\n",
    "from langchain.embeddings import OpenAIEmbeddings\n",
    "from langchain.vectorstores.azuresearch import AzureSearch"
   ]
  },
  {
   "cell_type": "code",
   "execution_count": null,
   "metadata": {},
   "outputs": [],
   "source": [
    "embeddings: OpenAIEmbeddings = OpenAIEmbeddings(deployment=\"text-embedding-ada-002\", chunk_size=1)\n",
    "index_name: str = \"langchain-example\"\n",
    "vector_store: AzureSearch = AzureSearch(\n",
    "    azure_search_endpoint=os.environ.get(\"SEARCH_ENDPOINT\"),\n",
    "    azure_search_key=os.environ.get(\"SEARCH_API_KEY\"),\n",
    "    index_name=index_name,\n",
    "    embedding_function=embeddings.embed_query,\n",
    ")"
   ]
  },
  {
   "cell_type": "code",
   "execution_count": null,
   "metadata": {},
   "outputs": [],
   "source": [
    "from langchain.document_loaders import DirectoryLoader, TextLoader\n",
    "\n",
    "loader = DirectoryLoader('./restaurant', glob=\"**/*.txt\", loader_cls=TextLoader)\n",
    "data = loader.load()\n",
    "print(len(data))"
   ]
  },
  {
   "cell_type": "code",
   "execution_count": null,
   "metadata": {},
   "outputs": [],
   "source": [
    "from langchain.text_splitter import RecursiveCharacterTextSplitter\n",
    "text_splitter = RecursiveCharacterTextSplitter(\n",
    "    chunk_size = 120,\n",
    "    chunk_overlap  = 20,\n",
    "    length_function = len,\n",
    "    is_separator_regex = False,\n",
    ")\n",
    "docs = text_splitter.split_documents(data)\n",
    "print(len(docs))"
   ]
  },
  {
   "cell_type": "code",
   "execution_count": null,
   "metadata": {},
   "outputs": [],
   "source": [
    "vector_store.add_documents(documents=docs)"
   ]
  },
  {
   "cell_type": "code",
   "execution_count": null,
   "metadata": {},
   "outputs": [],
   "source": [
    "\n",
    "docs = vector_store.similarity_search(\n",
    "    query=\"When are the opening hours of the restaurant?\",\n",
    "    k=3,\n",
    "    search_type=\"similarity\",\n",
    ")\n",
    "print(docs)\n"
   ]
  },
  {
   "cell_type": "code",
   "execution_count": null,
   "metadata": {},
   "outputs": [],
   "source": [
    "from langchain.chains import RetrievalQA\n",
    "from langchain.chat_models import ChatOpenAI\n",
    "\n",
    "qa = RetrievalQA.from_chain_type(llm=ChatOpenAI(), chain_type=\"stuff\", retriever=vector_store.as_retriever())\n",
    "qa.run(\"When are the opening hours of the restaurant?\")"
   ]
  }
 ],
 "metadata": {
  "kernelspec": {
   "display_name": "acs",
   "language": "python",
   "name": "python3"
  },
  "language_info": {
   "codemirror_mode": {
    "name": "ipython",
    "version": 3
   },
   "file_extension": ".py",
   "mimetype": "text/x-python",
   "name": "python",
   "nbconvert_exporter": "python",
   "pygments_lexer": "ipython3",
   "version": "3.11.0"
  }
 },
 "nbformat": 4,
 "nbformat_minor": 2
}
