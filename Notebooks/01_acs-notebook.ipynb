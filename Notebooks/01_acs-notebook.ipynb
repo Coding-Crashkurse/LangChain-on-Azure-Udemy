{
 "cells": [
  {
   "cell_type": "code",
   "execution_count": 1,
   "metadata": {},
   "outputs": [],
   "source": [
    "import os\n",
    "from dotenv import load_dotenv, find_dotenv\n",
    "from azure.core.credentials import AzureKeyCredential\n",
    "from azure.search.documents.indexes import SearchIndexClient\n",
    "from azure.search.documents.indexes.models import (\n",
    "    ComplexField,\n",
    "    CorsOptions,\n",
    "    SearchIndex,\n",
    "    SearchFieldDataType,\n",
    "    SimpleField,\n",
    "    SearchableField\n",
    ")"
   ]
  },
  {
   "cell_type": "code",
   "execution_count": 2,
   "metadata": {},
   "outputs": [
    {
     "data": {
      "text/plain": [
       "True"
      ]
     },
     "execution_count": 2,
     "metadata": {},
     "output_type": "execute_result"
    }
   ],
   "source": [
    "load_dotenv(find_dotenv('../application/.env'))"
   ]
  },
  {
   "cell_type": "code",
   "execution_count": null,
   "metadata": {},
   "outputs": [],
   "source": [
    "endpoint = os.environ[\"SEARCH_ENDPOINT\"]\n",
    "key = os.environ[\"SEARCH_API_KEY\"]\n",
    "\n",
    "print(key)\n",
    "\n",
    "client = SearchIndexClient(endpoint, AzureKeyCredential(key))"
   ]
  },
  {
   "cell_type": "code",
   "execution_count": null,
   "metadata": {},
   "outputs": [],
   "source": [
    "name = \"restaurant\"\n",
    "fields = [\n",
    "    SimpleField(name=\"restaurantId\", type=SearchFieldDataType.String, key=True),\n",
    "    SimpleField(name=\"averageCost\", type=SearchFieldDataType.Double),\n",
    "    SearchableField(name=\"description\", type=SearchFieldDataType.String),\n",
    "    ComplexField(name=\"address\", fields=[\n",
    "        SimpleField(name=\"streetAddress\", type=SearchFieldDataType.String),\n",
    "        SimpleField(name=\"city\", type=SearchFieldDataType.String),\n",
    "    ])\n",
    "]"
   ]
  },
  {
   "cell_type": "code",
   "execution_count": null,
   "metadata": {},
   "outputs": [],
   "source": [
    "from azure.core.exceptions import HttpResponseError\n",
    "\n",
    "cors_options = CorsOptions(allowed_origins=[\"*\"], max_age_in_seconds=60)\n",
    "scoring_profiles = []\n",
    "\n",
    "index = SearchIndex(\n",
    "    name=name,\n",
    "    fields=fields,\n",
    "    scoring_profiles=scoring_profiles,\n",
    "    cors_options=cors_options)\n",
    "\n",
    "\n",
    "try:\n",
    "    result = client.create_index(index)\n",
    "    print(f\"Index '{name}' created.\")\n",
    "except HttpResponseError as e:\n",
    "    print(f\"Index '{name}' already exists.\")\n"
   ]
  },
  {
   "cell_type": "markdown",
   "metadata": {},
   "source": [
    "### Add documents to the index"
   ]
  },
  {
   "cell_type": "code",
   "execution_count": null,
   "metadata": {},
   "outputs": [],
   "source": [
    "import os\n",
    "from azure.core.credentials import AzureKeyCredential\n",
    "from azure.search.documents import SearchClient\n",
    "\n",
    "index_name = \"restaurant\"\n",
    "endpoint = os.environ[\"SEARCH_ENDPOINT\"]\n",
    "key = os.environ[\"SEARCH_API_KEY\"]\n",
    "\n",
    "documents = [\n",
    "    {\n",
    "        'restaurantId': '1',\n",
    "        'averageCost': 50.0,\n",
    "        'description': 'Traditional Italian cuisine with a modern twist.',\n",
    "        'address': {\n",
    "            'streetAddress': '123 Via Roma',\n",
    "            'city': 'Rome',\n",
    "        }\n",
    "    },\n",
    "    {\n",
    "        'restaurantId': '2',\n",
    "        'averageCost': 70.0,\n",
    "        'description': 'Family-friendly Italian restaurant with classic dishes.',\n",
    "        'address': {\n",
    "            'streetAddress': '456 Via Milano',\n",
    "            'city': 'Milan',\n",
    "        }\n",
    "    },\n",
    "    {\n",
    "        'restaurantId': '3',\n",
    "        'averageCost': 35.0,\n",
    "        'description': 'Cozy trattoria offering regional specialties.',\n",
    "        'address': {\n",
    "            'streetAddress': '789 Via Napoli',\n",
    "            'city': 'Naples',\n",
    "        }\n",
    "    }\n",
    "]\n",
    "\n",
    "search_client = SearchClient(endpoint, index_name, AzureKeyCredential(key))\n",
    "result = search_client.upload_documents(documents=documents)\n"
   ]
  },
  {
   "cell_type": "code",
   "execution_count": null,
   "metadata": {},
   "outputs": [],
   "source": [
    "for res in result:\n",
    "    print(f\"Upload of document with ID '{res.key}' succeeded: {res.succeeded}\")"
   ]
  },
  {
   "cell_type": "markdown",
   "metadata": {},
   "source": [
    "Now we can retrieve Documents from ACS"
   ]
  },
  {
   "cell_type": "code",
   "execution_count": null,
   "metadata": {},
   "outputs": [],
   "source": [
    "results = client.search(search_text=\"Family friendly?\")\n",
    "\n",
    "for result in results:\n",
    "    print(result)"
   ]
  },
  {
   "cell_type": "markdown",
   "metadata": {},
   "source": [
    "### Using LangChain with ACS"
   ]
  },
  {
   "cell_type": "code",
   "execution_count": 3,
   "metadata": {},
   "outputs": [],
   "source": [
    "import os\n",
    "from langchain.embeddings import OpenAIEmbeddings\n",
    "from langchain.vectorstores.azuresearch import AzureSearch"
   ]
  },
  {
   "cell_type": "code",
   "execution_count": 5,
   "metadata": {},
   "outputs": [],
   "source": [
    "embeddings: OpenAIEmbeddings = OpenAIEmbeddings(deployment=\"text-embedding-ada-002\", chunk_size=1)\n",
    "index_name: str = \"langchain-example\"\n",
    "vector_store: AzureSearch = AzureSearch(\n",
    "    azure_search_endpoint=os.environ.get(\"SEARCH_ENDPOINT\"),\n",
    "    azure_search_key=os.environ.get(\"SEARCH_API_KEY\"),\n",
    "    index_name=index_name,\n",
    "    embedding_function=embeddings.embed_query,\n",
    ")"
   ]
  },
  {
   "cell_type": "code",
   "execution_count": 7,
   "metadata": {},
   "outputs": [
    {
     "name": "stdout",
     "output_type": "stream",
     "text": [
      "2\n"
     ]
    }
   ],
   "source": [
    "from langchain.document_loaders import DirectoryLoader, TextLoader\n",
    "\n",
    "loader = DirectoryLoader('./restaurant', glob=\"**/*.txt\", loader_cls=TextLoader)\n",
    "data = loader.load()\n",
    "print(len(data))"
   ]
  },
  {
   "cell_type": "code",
   "execution_count": 8,
   "metadata": {},
   "outputs": [
    {
     "name": "stdout",
     "output_type": "stream",
     "text": [
      "39\n"
     ]
    }
   ],
   "source": [
    "from langchain.text_splitter import RecursiveCharacterTextSplitter\n",
    "text_splitter = RecursiveCharacterTextSplitter(\n",
    "    chunk_size = 120,\n",
    "    chunk_overlap  = 20,\n",
    "    length_function = len,\n",
    "    is_separator_regex = False,\n",
    ")\n",
    "docs = text_splitter.split_documents(data)\n",
    "print(len(docs))"
   ]
  },
  {
   "cell_type": "code",
   "execution_count": 9,
   "metadata": {},
   "outputs": [
    {
     "data": {
      "text/plain": [
       "['ODdjODkxMDgtMTg5Yy00MWY3LWEyMTktZDIxMjA4YjlkZDNk',\n",
       " 'NzBkZmVkODEtN2M4My00Y2VkLTkxZmMtOGVjNGI4M2ViMmI5',\n",
       " 'ZmE3NzQ3YWUtYzMwYi00YzFhLTgwMzctMzRhOTQwZDY0MGY2',\n",
       " 'ZmU4ZjQ3ZTYtYmJiMy00YjhmLWE3ZjAtNThlMTE0MjNiZTE3',\n",
       " 'YWVlOWZmOGQtMTYyZi00YzlkLWI4NjUtODYzMDM5ZjdhY2Y3',\n",
       " 'Y2IxYWYwYzUtN2VmZi00MTM0LTlkODgtOTgxOTYyZjhhNDUz',\n",
       " 'MWYwOGE0YTQtMTgwZi00MTNjLTkxODUtNmIzNDYxY2YxM2Zj',\n",
       " 'NmVmNTRkMjUtMTNmNC00ZGJkLWFjOWItYjE4ODkxZWY3ZGYy',\n",
       " 'NDU3MDRhY2UtNDBhNS00YThhLWFhOGItNzFlN2MwZDQwNmE0',\n",
       " 'OTVhNTI1ZTEtYTE4ZC00YTdhLWIyZTctYjVhNjBiYWYzYTMy',\n",
       " 'ZTNkNTQwN2YtZWZlOS00MWM2LWE1ODktYmY0ZTEwOTBmOTJi',\n",
       " 'MzE1NTAzODQtYjI0YS00ZTA2LWJlNDMtMjI0YmYxNDlhY2Jh',\n",
       " 'ODczOGQ0YjMtMTJhOS00Nzc0LTk0MDMtNjZlYWY3YWEzZWU4',\n",
       " 'NzdjYzk4YzAtMTE1Ny00MzMxLTkyMTYtNjlkMDI2Yzc4ODgz',\n",
       " 'YWRlMDhmYWMtM2ZmMS00NmZlLThiYzctZjI3MWY1YzA3OTdl',\n",
       " 'ZjVhNjQ2N2MtMTM2Yy00NGJkLTg2NDQtZTRkOWYyYThlM2M0',\n",
       " 'YTQyMTQ2ZjktZTQxNC00YmZjLTk5ZjYtNDEzNWQ1NGNkYzU0',\n",
       " 'NDJkMWU2ZjYtMTZhZC00OWExLWJlNjMtN2M0YTdhZTI0YzQ0',\n",
       " 'YmM0NWMwMWItZmFlOS00NjM1LThjOGYtNzY0OTgzNDc1NWYy',\n",
       " 'YTk5MGJiOTQtZDRhNi00ZTNkLWE3NDktZjUwZWZiYTA2YmMw',\n",
       " 'NjliYzFhMmMtNTk2YS00OGJjLTgzMDAtY2I0MzA0MGIyNzA1',\n",
       " 'YTVjMDE1Y2QtNTk0Ni00MTVhLWI2NDEtODJlMjI3NGIwZmVi',\n",
       " 'ODUyYjJmYWYtNzY5Mi00YmUyLWFiZTMtYjI0NGUyNDI2N2Uy',\n",
       " 'YjhmNGE4NzYtNzYwZC00MzRhLWE5ZTctNThjYWViMTVjMzI0',\n",
       " 'MGExZmI1NDUtZTA5OC00OGExLWJkMTEtYjZhOTllNjQ1NGE4',\n",
       " 'Mjg5MTQxNjUtMjU4Ni00ZjdmLTliODItOWRiMjFmYTdiMzUw',\n",
       " 'YjRjNzdmOGMtZmZjMC00OWE0LTgxZTgtNWNiOWIyMzFkM2Ey',\n",
       " 'ZDdiNDEyOWUtZmYwNi00MzFjLTlmMjUtNDU1MzBhMDAwMDZm',\n",
       " 'Y2Y2N2ZiODgtNWRkZS00ZjIxLWI5OWEtZDRlNmI0Mzc2Njdl',\n",
       " 'YWM5OTg0OTAtYmU1Yi00YTEwLWIzMWMtYTliMzk5NDM4MDA3',\n",
       " 'OGI1NjczZTgtN2YzZC00YTg4LWFjOGQtNTdkZWQzYTI1NmM3',\n",
       " 'OGE0MTYxMmUtY2Q1OC00YmFjLWI5ZTItZmYwOTFkMGUyZDJl',\n",
       " 'YmFmZWY5YTItZWNkMi00NjdjLThmZWItYjQ3YTU2OTRjMmEw',\n",
       " 'ZTc3NGVhNTMtNzUxMi00MjkzLTg0NTktMTFjN2Q2YTIwNGVm',\n",
       " 'ZDgyMjEwM2ItOTk3NC00Y2VkLTgxYWQtMDJjNmViMDA4MGZm',\n",
       " 'MDRhYmNjZjAtYmZlYS00M2Q3LTlkYTAtNDlkOWQzOWUwNTM4',\n",
       " 'OWIxMTYyMjgtMjNhZi00ZTRkLWIxZDctMWY1OGJlNDZhZWZl',\n",
       " 'NDNhMWE0ZTAtNWZmMC00Y2M0LWIwYjMtYTcwM2IxYWUxOTEz',\n",
       " 'MzUzOTM0ZTgtODA5Yi00M2E3LThhZGQtMmE1OGQ2ZGVhYTk2']"
      ]
     },
     "execution_count": 9,
     "metadata": {},
     "output_type": "execute_result"
    }
   ],
   "source": [
    "vector_store.add_documents(documents=docs)"
   ]
  },
  {
   "cell_type": "code",
   "execution_count": 17,
   "metadata": {},
   "outputs": [
    {
     "name": "stdout",
     "output_type": "stream",
     "text": [
      "[Document(page_content='Restaurant Opening Hours:', metadata={'id': 'YmFmZWY5YTItZWNkMi00NjdjLThmZWItYjQ3YTU2OTRjMmEw', 'source': 'restaurant\\\\opening_hours.txt'}), Document(page_content='Special Hours: Our kitchen closes 30 minutes before the restaurant closing time.', metadata={'id': 'MDRhYmNjZjAtYmZlYS00M2Q3LTlkYTAtNDlkOWQzOWUwNTM4', 'source': 'restaurant\\\\opening_hours.txt'}), Document(page_content='Monday to Thursday: 11:00 AM - 11:00 PM\\nFriday: 11:00 AM - 12:00 AM (midnight)', metadata={'id': 'ZTc3NGVhNTMtNzUxMi00MjkzLTg0NTktMTFjN2Q2YTIwNGVm', 'source': 'restaurant\\\\opening_hours.txt'})]\n"
     ]
    }
   ],
   "source": [
    "\n",
    "docs = vector_store.similarity_search(\n",
    "    query=\"When are the opening hours of the restaurant?\",\n",
    "    k=3,\n",
    "    search_type=\"similarity\",\n",
    ")\n",
    "print(docs)\n"
   ]
  },
  {
   "cell_type": "code",
   "execution_count": 19,
   "metadata": {},
   "outputs": [
    {
     "data": {
      "text/plain": [
       "'The opening hours of the restaurant are Monday to Thursday from 11:00 AM to 11:00 PM, and on Friday from 11:00 AM to 12:00 AM (midnight).'"
      ]
     },
     "execution_count": 19,
     "metadata": {},
     "output_type": "execute_result"
    }
   ],
   "source": [
    "from langchain.chains import RetrievalQA\n",
    "from langchain.chat_models import ChatOpenAI\n",
    "\n",
    "qa = RetrievalQA.from_chain_type(llm=ChatOpenAI(), chain_type=\"stuff\", retriever=vector_store.as_retriever())\n",
    "qa.run(\"When are the opening hours of the restaurant?\")"
   ]
  }
 ],
 "metadata": {
  "kernelspec": {
   "display_name": "acs",
   "language": "python",
   "name": "python3"
  },
  "language_info": {
   "codemirror_mode": {
    "name": "ipython",
    "version": 3
   },
   "file_extension": ".py",
   "mimetype": "text/x-python",
   "name": "python",
   "nbconvert_exporter": "python",
   "pygments_lexer": "ipython3",
   "version": "3.11.0"
  }
 },
 "nbformat": 4,
 "nbformat_minor": 2
}
