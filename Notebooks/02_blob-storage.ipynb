{
 "cells": [
  {
   "cell_type": "code",
   "execution_count": null,
   "metadata": {},
   "outputs": [],
   "source": [
    "from dotenv import load_dotenv, find_dotenv\n",
    "\n",
    "load_dotenv(find_dotenv('../application/.env'))"
   ]
  },
  {
   "cell_type": "code",
   "execution_count": null,
   "metadata": {},
   "outputs": [],
   "source": [
    "import os\n",
    "from azure.storage.blob import BlobServiceClient\n",
    "\n",
    "folder_path = \"./restaurant\"\n",
    "\n",
    "conn_str=os.getenv(\"BLOB_CONN_STRING\")\n",
    "container_name = os.getenv(\"BLOB_CONTAINER\")\n",
    "\n",
    "\n",
    "blob_service_client = BlobServiceClient.from_connection_string(conn_str=conn_str)\n",
    "container_client = blob_service_client.get_container_client(container_name)\n",
    "\n",
    "for filename in os.listdir(folder_path):\n",
    "    if os.path.isfile(os.path.join(folder_path, filename)):\n",
    "        file_path = os.path.join(folder_path, filename)\n",
    "\n",
    "        blob_client = blob_service_client.get_blob_client(container=container_name, blob=filename)\n",
    "\n",
    "        with open(file_path, \"rb\") as data:\n",
    "            blob_client.upload_blob(data, overwrite=True)\n"
   ]
  },
  {
   "cell_type": "markdown",
   "metadata": {},
   "source": [
    "Now we can link ACS BlobStorage and the ACS VectorStore"
   ]
  },
  {
   "cell_type": "code",
   "execution_count": null,
   "metadata": {},
   "outputs": [],
   "source": [
    "from langchain.document_loaders import AzureBlobStorageContainerLoader\n",
    "from langchain.text_splitter import RecursiveCharacterTextSplitter\n",
    "\n",
    "loader = AzureBlobStorageContainerLoader(conn_str=conn_str, container=container_name)\n",
    "data = loader.load()\n",
    "\n",
    "text_splitter = RecursiveCharacterTextSplitter(\n",
    "    chunk_size = 200,\n",
    "    chunk_overlap  = 20,\n",
    "    length_function = len,\n",
    "    is_separator_regex = False,\n",
    ")\n",
    "docs = text_splitter.split_documents(data)\n",
    "print(len(data))\n",
    "print(len(docs))"
   ]
  },
  {
   "cell_type": "code",
   "execution_count": null,
   "metadata": {},
   "outputs": [],
   "source": [
    "import os\n",
    "from langchain.embeddings import OpenAIEmbeddings\n",
    "from langchain.vectorstores.azuresearch import AzureSearch"
   ]
  },
  {
   "cell_type": "code",
   "execution_count": null,
   "metadata": {},
   "outputs": [],
   "source": [
    "embeddings: OpenAIEmbeddings = OpenAIEmbeddings(deployment=\"text-embedding-ada-002\", chunk_size=1)\n",
    "index_name: str = \"restaurant2\"\n",
    "vector_store: AzureSearch = AzureSearch(\n",
    "    azure_search_endpoint=os.environ.get(\"SEARCH_ENDPOINT\"),\n",
    "    azure_search_key=os.environ.get(\"SEARCH_API_KEY\"),\n",
    "    index_name=index_name,\n",
    "    embedding_function=embeddings.embed_query,\n",
    ")"
   ]
  },
  {
   "cell_type": "code",
   "execution_count": null,
   "metadata": {},
   "outputs": [],
   "source": [
    "result = vector_store.add_documents(documents=docs)"
   ]
  },
  {
   "cell_type": "markdown",
   "metadata": {},
   "source": [
    "If you run that code multiple times, we would add the same documents again and again - quick solution is to delete the index and create the complete index again."
   ]
  },
  {
   "cell_type": "code",
   "execution_count": null,
   "metadata": {},
   "outputs": [],
   "source": [
    "from azure.core.credentials import AzureKeyCredential\n",
    "from azure.search.documents import SearchClient\n",
    "\n",
    "\n",
    "endpoint = os.environ[\"SEARCH_ENDPOINT\"]\n",
    "api_key = os.environ[\"SEARCH_API_KEY\"]\n",
    "\n",
    "credential = AzureKeyCredential(api_key)\n",
    "client = SearchClient(endpoint=endpoint,\n",
    "                      index_name=index_name,\n",
    "                      credential=credential)\n",
    "\n",
    "results = client.search(search_text=\"*\")\n",
    "documents = [result for result in results]\n",
    "\n",
    "print(len(documents))\n"
   ]
  },
  {
   "cell_type": "code",
   "execution_count": null,
   "metadata": {},
   "outputs": [],
   "source": [
    "from azure.core.credentials import AzureKeyCredential\n",
    "from azure.search.documents.indexes import SearchIndexClient\n",
    "\n",
    "index_client = SearchIndexClient(endpoint, AzureKeyCredential(api_key))\n",
    "index_client.delete_index(index_name)\n",
    "\n",
    "print(f\"Index '{index_name}' has been deleted.\")\n"
   ]
  },
  {
   "cell_type": "markdown",
   "metadata": {},
   "source": [
    "Now we could create the Index again - but it would be actually better to:\n",
    "\n",
    "1. Not have duplicated documents in the vectorstore\n",
    "2. Not to drop Indexes and recreate them everything a source document changes\n",
    "\n",
    "For this issue, the indexing API was developed. Unfortunately, the indexing API does NOT work in combination with ACS.\n",
    "That´s why we will continue with PGVector on Azure\n"
   ]
  }
 ],
 "metadata": {
  "kernelspec": {
   "display_name": "acs",
   "language": "python",
   "name": "python3"
  },
  "language_info": {
   "codemirror_mode": {
    "name": "ipython",
    "version": 3
   },
   "file_extension": ".py",
   "mimetype": "text/x-python",
   "name": "python",
   "nbconvert_exporter": "python",
   "pygments_lexer": "ipython3",
   "version": "3.11.0"
  }
 },
 "nbformat": 4,
 "nbformat_minor": 2
}
